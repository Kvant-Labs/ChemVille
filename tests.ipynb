{
 "cells": [
  {
   "cell_type": "code",
   "execution_count": 30,
   "id": "12165ea2",
   "metadata": {},
   "outputs": [],
   "source": [
    "import json\n",
    "from environment.frontend_server.global_methods import read_file_to_list\n",
    "env_matrix = \"environment/frontend_server/static_dirs/assets/the_ville/matrix/\"\n",
    "meta_info = json.load(open(f\"{env_matrix}/maze_meta_info.json\"))\n",
    "maze_width = int(meta_info[\"maze_width\"])\n",
    "maze_height = int(meta_info[\"maze_height\"])\n",
    "sq_tile_size = int(meta_info[\"sq_tile_size\"])\n",
    "special_constraint = meta_info[\"special_constraint\"]\n",
    "\n",
    "blocks_folder = f\"{env_matrix}/special_blocks\"\n",
    "\n",
    "_wb = blocks_folder + \"/world_blocks.csv\"\n",
    "wb_rows = read_file_to_list(_wb, header=False)\n",
    "wb = wb_rows[0][-1]\n",
    "\n",
    "_sb = blocks_folder + \"/sector_blocks.csv\"\n",
    "sb_rows = read_file_to_list(_sb, header=False)\n",
    "\n",
    "\n",
    "_gob = blocks_folder + \"/game_object_blocks.csv\"\n",
    "gob_rows = read_file_to_list(_gob, header=False)\n",
    "\n",
    "_slb = blocks_folder + \"/spawning_location_blocks.csv\"\n",
    "slb_rows = read_file_to_list(_slb, header=False)\n",
    "slb_dict = dict()\n",
    "for i in slb_rows: slb_dict[i[0]] = i[-1]\n",
    "\n",
    "# [SECTION 3] Reading in the matrices \n",
    "# This is your typical two dimensional matrices. It's made up of 0s and \n",
    "# the number that represents the color block from the blocks folder. \n",
    "maze_folder = f\"{env_matrix}/maze\"\n",
    "\n",
    "_cm = maze_folder + \"/collision_maze.csv\"\n",
    "collision_maze_raw = read_file_to_list(_cm, header=False)[0]\n",
    "_sm = maze_folder + \"/sector_maze.csv\"\n",
    "sector_maze_raw = read_file_to_list(_sm, header=False)[0]\n",
    "_am = maze_folder + \"/arena_maze.csv\"\n",
    "arena_maze_raw = read_file_to_list(_am, header=False)[0]\n",
    "_gom = maze_folder + \"/game_object_maze.csv\"\n",
    "game_object_maze_raw = read_file_to_list(_gom, header=False)[0]\n",
    "_slm = maze_folder + \"/spawning_location_maze.csv\"\n",
    "spawning_location_maze_raw = read_file_to_list(_slm, header=False)[0]\n",
    "\n",
    "# Loading the maze. The mazes are taken directly from the json exports of\n",
    "# Tiled maps. They should be in csv format. \n",
    "# Importantly, they are \"not\" in a 2-d matrix format -- they are single \n",
    "# row matrices with the length of width x height of the maze. So we need\n",
    "# to convert here. \n",
    "# We can do this all at once since the dimension of all these matrices are\n",
    "# identical (e.g., 70 x 40).\n",
    "# example format: [['0', '0', ... '25309', '0',...], ['0',...]...]\n",
    "# 25309 is the collision bar number right now.\n",
    "collision_maze = []\n",
    "sector_maze = []\n",
    "arena_maze = []\n",
    "game_object_maze = []\n",
    "spawning_location_maze = []\n",
    "for i in range(0, len(collision_maze_raw), meta_info[\"maze_width\"]):\n",
    "    tw = meta_info[\"maze_width\"]\n",
    "    collision_maze += [collision_maze_raw[i:i+tw]]\n",
    "    sector_maze += [sector_maze_raw[i:i+tw]]\n",
    "    arena_maze += [arena_maze_raw[i:i+tw]]\n",
    "    game_object_maze += [game_object_maze_raw[i:i+tw]]\n",
    "    spawning_location_maze += [spawning_location_maze_raw[i:i+tw]]\n",
    "\n",
    "tiles = []\n",
    "for i in range(maze_height): \n",
    "    row = []\n",
    "    for j in range(maze_width):\n",
    "        tile_details = dict()\n",
    "        \n",
    "        tile_details[\"spawning_location\"] = \"\"\n",
    "        try:\n",
    "            if spawning_location_maze[i][j] in slb_dict: \n",
    "                tile_details[\"spawning_location\"] = slb_dict[spawning_location_maze[i][j]]\n",
    "            \n",
    "            tile_details[\"collision\"] = False\n",
    "            if collision_maze[i][j] != \"0\": \n",
    "                tile_details[\"collision\"] = True\n",
    "\n",
    "            tile_details[\"events\"] = set()\n",
    "            \n",
    "            row += [tile_details]\n",
    "            tiles += [row]\n",
    "        except Exception as e:\n",
    "            print(i, j)\n"
   ]
  },
  {
   "cell_type": "code",
   "execution_count": 31,
   "id": "1f89f3f2",
   "metadata": {},
   "outputs": [
    {
     "data": {
      "text/plain": [
       "140"
      ]
     },
     "execution_count": 31,
     "metadata": {},
     "output_type": "execute_result"
    }
   ],
   "source": [
    "len(spawning_location_maze[0])"
   ]
  },
  {
   "cell_type": "code",
   "execution_count": 32,
   "id": "8e3b990c",
   "metadata": {},
   "outputs": [
    {
     "data": {
      "text/plain": [
       "100"
      ]
     },
     "execution_count": 32,
     "metadata": {},
     "output_type": "execute_result"
    }
   ],
   "source": [
    "len(spawning_location_maze)"
   ]
  },
  {
   "cell_type": "code",
   "execution_count": 39,
   "id": "89bf1396",
   "metadata": {},
   "outputs": [
    {
     "data": {
      "text/plain": [
       "100.0"
      ]
     },
     "execution_count": 39,
     "metadata": {},
     "output_type": "execute_result"
    }
   ],
   "source": [
    "len(collision_maze_raw)/140"
   ]
  },
  {
   "cell_type": "code",
   "execution_count": 35,
   "id": "ccc09c8b",
   "metadata": {},
   "outputs": [
    {
     "name": "stdout",
     "output_type": "stream",
     "text": [
      "140\n",
      "140\n",
      "140\n",
      "140\n",
      "140\n",
      "140\n",
      "140\n",
      "140\n",
      "140\n",
      "140\n",
      "140\n",
      "140\n",
      "140\n",
      "140\n",
      "140\n",
      "140\n",
      "140\n",
      "140\n",
      "140\n",
      "140\n",
      "140\n",
      "140\n",
      "140\n",
      "140\n",
      "140\n",
      "140\n",
      "140\n",
      "140\n",
      "140\n",
      "140\n",
      "140\n",
      "140\n",
      "140\n",
      "140\n",
      "140\n",
      "140\n",
      "140\n",
      "140\n",
      "140\n",
      "140\n",
      "140\n",
      "140\n",
      "140\n",
      "140\n",
      "140\n",
      "140\n",
      "140\n",
      "140\n",
      "140\n",
      "140\n",
      "140\n",
      "140\n",
      "140\n",
      "140\n",
      "140\n",
      "140\n",
      "140\n",
      "140\n",
      "140\n",
      "140\n",
      "140\n",
      "140\n",
      "140\n",
      "140\n",
      "140\n",
      "140\n",
      "140\n",
      "140\n",
      "140\n",
      "140\n",
      "140\n",
      "140\n",
      "140\n",
      "140\n",
      "140\n",
      "140\n",
      "140\n",
      "140\n",
      "140\n",
      "140\n",
      "140\n",
      "140\n",
      "140\n",
      "140\n",
      "140\n",
      "140\n",
      "140\n",
      "140\n",
      "140\n",
      "140\n",
      "140\n",
      "140\n",
      "140\n",
      "140\n",
      "140\n",
      "140\n",
      "140\n",
      "140\n",
      "140\n",
      "140\n"
     ]
    }
   ],
   "source": [
    "for i in spawning_location_maze:\n",
    "    print(len(i))"
   ]
  },
  {
   "cell_type": "code",
   "execution_count": 29,
   "id": "adc714b7",
   "metadata": {},
   "outputs": [
    {
     "data": {
      "text/plain": [
       "{'world_name': 'the ville',\n",
       " 'maze_width': 140,\n",
       " 'maze_height': 100,\n",
       " 'sq_tile_size': 32,\n",
       " 'special_constraint': ''}"
      ]
     },
     "execution_count": 29,
     "metadata": {},
     "output_type": "execute_result"
    }
   ],
   "source": [
    "meta_info"
   ]
  },
  {
   "cell_type": "code",
   "execution_count": null,
   "id": "7b7512b5",
   "metadata": {},
   "outputs": [],
   "source": []
  }
 ],
 "metadata": {
  "kernelspec": {
   "display_name": "chemville",
   "language": "python",
   "name": "python3"
  },
  "language_info": {
   "codemirror_mode": {
    "name": "ipython",
    "version": 3
   },
   "file_extension": ".py",
   "mimetype": "text/x-python",
   "name": "python",
   "nbconvert_exporter": "python",
   "pygments_lexer": "ipython3",
   "version": "3.9.12"
  }
 },
 "nbformat": 4,
 "nbformat_minor": 5
}
